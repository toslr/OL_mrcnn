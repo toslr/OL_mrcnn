{
 "cells": [
  {
   "cell_type": "code",
   "execution_count": 2,
   "metadata": {},
   "outputs": [],
   "source": [
    "import numpy as np\n",
    "import os\n",
    "import cv2"
   ]
  },
  {
   "cell_type": "code",
   "execution_count": null,
   "metadata": {},
   "outputs": [],
   "source": [
    "def detect_overlap(bboxes):\n",
    "    \"\"\"List overlaps between the bounding boxes.\"\"\"\n",
    "    overlaps = []\n",
    "    for i in range(len(bboxes)):\n",
    "        for j in range(i+1, len(bboxes)):\n",
    "            x1, y1, w1, h1 = bboxes[i]\n",
    "            x2, y2, w2, h2 = bboxes[j]\n",
    "            if x1 < x2 + w2 and x1 + w1 > x2 and y1 < y2 + h2 and y1 + h1 > y2:\n",
    "                overlaps.append((i, j))\n",
    "    return overlaps"
   ]
  },
  {
   "cell_type": "code",
   "execution_count": 3,
   "metadata": {},
   "outputs": [],
   "source": [
    "def nms_suppression_multi(results,threshold):\n",
    "    \"\"\"Apply non-maximum suppression to avoid multiple detections of the same object\"\"\"\n",
    "    r = results[0]\n",
    "    remove_index = np.array([0]*len(r['rois'])).astype(bool)\n",
    "    for i in range(0,len(r['rois'])):\n",
    "        for j in range(i+1,len(r['rois'])):\n",
    "            if remove_index[i] == 0 and remove_index[j] == 0:\n",
    "                iou = np.logical_and(r['masks'][:,:,i].astype(bool),r['masks'][:,:,j].astype(bool)).sum() / np.logical_or(r['masks'][:,:,i].astype(bool),r['masks'][:,:,j].astype(bool)).sum()\n",
    "                #print(iou)\n",
    "                if iou > threshold:\n",
    "                    if r['scores'][i] > r['scores'][j]:\n",
    "                        remove_index[j]=1\n",
    "                    else:\n",
    "                        remove_index[i]=1    \n",
    "    new_results = [{'rois':r['rois'][~remove_index],\n",
    "                    'masks':r['masks'][:,:,~remove_index],\n",
    "                    'class_ids':r['class_ids'][~remove_index],\n",
    "                    'scores':r['scores'][~remove_index]}]\n",
    "    return new_results"
   ]
  },
  {
   "cell_type": "code",
   "execution_count": null,
   "metadata": {},
   "outputs": [],
   "source": [
    "def crop_from_results(image_path,image,img_res_dir,results,res_list,class_names,modify_results=False):\n",
    "    \"\"\"Crop ROIs from image using the results, and correct ROIs to display only 1 object in the cropped region.\"\"\"\n",
    "    overlaps = detect_overlap(results[0]['rois'])\n",
    "    if len(overlaps) > 0:\n",
    "        print('Warning: Overlapping bounding boxes detected. Applying non-maximum suppression.')\n",
    "        results = nms_suppression_multi(results,0.5)\n",
    "    r = results[0]\n",
    "    if not modify_results:\n",
    "        for i in range(r['masks'].shape[2]):\n",
    "            class_name = class_names[r['class_ids'][i]]\n",
    "            res_list.append([os.path.basename(image_path), i, class_names[r['class_ids'][i]], r['scores'][i], r['rois'][i]])\n",
    "            cropped_img = image[r['rois'][i][0]:r['rois'][i][2], r['rois'][i][1]:r['rois'][i][3]]\n",
    "            cv2.imwrite(os.path.join(img_res_dir, f'{i:04d}_' + class_name + '.tif'), cropped_img)\n",
    "    \n",
    "    else:\n",
    "        for i in range(r['masks'].shape[2]):\n",
    "            class_name = class_names[r['class_ids'][i]]\n",
    "            res_list.append([os.path.basename(image_path), i, class_names[r['class_ids'][i]], r['scores'][i], r['rois'][i]])\n",
    "            overlaps_with_i = [pair[1] if pair[0]==i else pair[0] for pair in overlaps if pair[0]==i or pair[1]==i]\n",
    "            modified_image = image.copy()\n",
    "            \n",
    "            bbox_i_mask = np.zeros_like(image)\n",
    "            bbox_i_mask[r['rois'][i][0]:r['rois'][i][2], r['rois'][i][1]:r['rois'][i][3]] = 1\n",
    "            to_erase = np.zeros_like(image)\n",
    "            for j in overlaps_with_i:\n",
    "                to_erase += np.logical_and(np.logical_and(bbox_i_mask,1-r['masks'][:,:,i].astype(bool)), r['masks'][:,:,j].astype(bool)) # erase overlapping between bbox i and mask j but not mask i\n",
    "            modified_image[to_erase.astype(bool)] = 0\n",
    "            cropped_img = modified_image[r['rois'][i][0]:r['rois'][i][2], r['rois'][i][1]:r['rois'][i][3]]\n",
    "            cv2.imwrite(os.path.join(img_res_dir, f'{i:04d}_' + class_name + '.tif'), cropped_img)\n",
    "\n",
    "\n",
    "                \n",
    "\n",
    "                \n",
    "                \n",
    "    \n",
    "    "
   ]
  }
 ],
 "metadata": {
  "kernelspec": {
   "display_name": "tf_env",
   "language": "python",
   "name": "python3"
  },
  "language_info": {
   "codemirror_mode": {
    "name": "ipython",
    "version": 3
   },
   "file_extension": ".py",
   "mimetype": "text/x-python",
   "name": "python",
   "nbconvert_exporter": "python",
   "pygments_lexer": "ipython3",
   "version": "3.9.18"
  }
 },
 "nbformat": 4,
 "nbformat_minor": 2
}
