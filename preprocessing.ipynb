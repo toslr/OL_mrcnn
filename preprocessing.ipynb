{
 "cells": [
  {
   "cell_type": "code",
   "execution_count": 9,
   "metadata": {},
   "outputs": [],
   "source": [
    "import numpy as np\n",
    "import cv2\n",
    "#import pandas as pd\n",
    "import os\n",
    "import tifffile as tiff\n",
    "from PIL import Image\n",
    "import skimage\n",
    "import czifile\n",
    "import matplotlib.pyplot as plt\n",
    "from aicsimageio import AICSImage"
   ]
  },
  {
   "cell_type": "markdown",
   "metadata": {},
   "source": [
    "## CZI to TIFF"
   ]
  },
  {
   "cell_type": "code",
   "execution_count": 37,
   "metadata": {},
   "outputs": [
    {
     "name": "stdout",
     "output_type": "stream",
     "text": [
      "BZ-MBL_002_20x_LatA500nM-right-19.czi\n",
      "BZ-MBL_002_20x_DMSO-left-02_photogenic.czi\n",
      "BZ-MBL_002_20x_LatA2uM-left-23.czi\n",
      "BZ-MBL_002_20x_LatA500nM-right-18.czi\n",
      "BZ-MBL_002_20x_ionomycin-left-40.czi\n",
      "BZ-MBL_002_20x_LatA2uM-right-29.czi\n",
      "BZ-MBL_002_20x_LatA2uM-left-24.czi\n",
      "BZ-MBL_002_20x_LatA2uM-right-28.czi\n",
      "BZ-MBL_002_20x_LatA2uM-left-25.czi\n",
      "BZ-MBL_002_20x_LatA500nM-right-22.czi\n",
      "BZ-MBL_002_20x_ionomycin-left-37_photogenic.czi\n",
      "BZ-MBL_002_20x_LatA500nM-right-20.czi\n",
      "BZ-MBL_002_20x_LatA2uM-left-27.czi\n",
      "BZ-MBL_002_20x_LatA2uM-left-26.czi\n",
      "BZ-MBL_002_20x_LatA500nM-right-21.czi\n",
      "BZ-MBL_002_20x_ionomycin-left-34.czi\n",
      "BZ-MBL_002_20x_DMSO-left-03.czi\n",
      "BZ-MBL_002_20x_ionomycin-left-35.czi\n",
      "BZ-MBL_002_20x_ionomycin-left-36.czi\n",
      "BZ-MBL_002_20x_DMSO-left-04.czi\n",
      "BZ-MBL_002_20x_DMSO-right-10.czi\n",
      "BZ-MBL_002_20x_DMSO-right-11.czi\n",
      "BZ-MBL_002_20x_DMSO-left-05.czi\n",
      "BZ-MBL_002_20x_ionomycin-left-33_photogenic.czi\n",
      "BZ-MBL_002_20x_DMSO-right-07.czi\n",
      "BZ-MBL_002_20x_DMSO-left-06.czi\n",
      "BZ-MBL_002_20x_ionomycin-right-46.czi\n",
      "BZ-MBL_002_20x_DMSO-right-08.czi\n",
      "BZ-MBL_002_20x_ionomycin-right-45.czi\n",
      "BZ-MBL_002_20x_DMSO-right-09.czi\n",
      "BZ-MBL_002_20x_ionomycin-right-44.czi\n",
      "BZ-MBL_002_20x_ionomycin-right-41.czi\n",
      "BZ-MBL_002_20x_ionomycin-left-38.czi\n",
      "BZ-MBL_002_20x_ionomycin-right-43.czi\n",
      "BZ-MBL_002_20x_ionomycin-right-42.czi\n",
      "BZ-MBL_002_20x_ionomycin-right-47_photogenic.czi\n",
      "BZ-MBL_002_20x_ionomycin-left-39.czi\n",
      "BZ-MBL_002_20x_LatA2uM-right-32.czi\n",
      "BZ-MBL_002_20x_LatA2uM-right-31.czi\n",
      "BZ-MBL_002_20x_LatA2uM-right-30.czi\n",
      "BZ-MBL_002_20x_LatA500nM-left-15.czi\n",
      "BZ-MBL_002_20x_LatA500nM-left-14.czi\n",
      "BZ-MBL_002_20x_LatA500nM-left-16.czi\n",
      "BZ-MBL_002_20x_LatA500nM-left-02.czi\n",
      "BZ-MBL_002_20x_LatA500nM-left-17.czi\n"
     ]
    }
   ],
   "source": [
    "def czi_to_tiff(czi_folder,save_path):\n",
    "    \"\"\"read czi files and save as tiff files\"\"\"\n",
    "    if not os.path.exists(save_path):\n",
    "        os.makedirs(save_path)\n",
    "    for root, dirs, files in os.walk(czi_folder):\n",
    "        for file in files:\n",
    "            if file.endswith('.czi'):\n",
    "                czi = AICSImage(os.path.join(root,file))\n",
    "                image = czi.get_image_data(\"CZYX\", S=0, T=0, Z=0)\n",
    "                image = np.squeeze(image)\n",
    "                image = np.moveaxis(image, 0, -1)\n",
    "                tiff.imwrite(os.path.join(save_path,file.replace('.czi','.tif')),image)\n",
    "\n",
    "czi_to_tiff(czi_folder='/Users/tom/Downloads/BZ_OL_images',\n",
    "            save_path='/Users/tom/Downloads/BZ_OL_images_tiff2')\n"
   ]
  },
  {
   "cell_type": "markdown",
   "metadata": {},
   "source": [
    "## OMETIFF to TIFF"
   ]
  },
  {
   "cell_type": "code",
   "execution_count": 61,
   "metadata": {},
   "outputs": [
    {
     "name": "stdout",
     "output_type": "stream",
     "text": [
      "(4, 1, 2208, 2752)\n"
     ]
    }
   ],
   "source": [
    "input_path ='/Users/tom/Desktop/Stanford/RA/OligodendroSight/datasets/Lauren/Sample_TomGUI/1.czi'\n",
    "img = AICSImage(input_path)\n",
    "img_data = img.get_image_data(\"CZYX\", S=0, T=0, Z=0)\n",
    "print(img_data.shape)"
   ]
  },
  {
   "cell_type": "code",
   "execution_count": 13,
   "metadata": {},
   "outputs": [],
   "source": [
    "def ometifs_to_tifs(dir_path, save_path):\n",
    "    \"\"\"converts ome-tifs to tifs\"\"\"\n",
    "    if not os.path.exists(save_path):\n",
    "        os.makedirs(save_path)\n",
    "    for file in os.listdir(dir_path):\n",
    "        if file.endswith('.ome.tif'):\n",
    "            img = skimage.io.imread(os.path.join(dir_path, file))\n",
    "            for i in range(img.shape[0]):\n",
    "                skimage.io.imsave(os.path.join(save_path, file[:-8] + f'_{i}.tif'), img[i])\n",
    "\n",
    "input_path = '/Users/tom/Downloads/ometifs'\n",
    "output_path = '/Users/tom/Downloads/tifs_from_ome'\n",
    "\n",
    "ometifs_to_tifs(input_path, output_path)"
   ]
  },
  {
   "cell_type": "markdown",
   "metadata": {},
   "source": [
    "## Normalize and convert to grayscale"
   ]
  },
  {
   "cell_type": "code",
   "execution_count": 68,
   "metadata": {},
   "outputs": [
    {
     "name": "stdout",
     "output_type": "stream",
     "text": [
      "22 images were normalized and saved as grayscale.\n"
     ]
    }
   ],
   "source": [
    "\n",
    "folder_path = \"/Users/tom/Desktop/Stanford/RA/OligodendroSight/datasets/Lauren/Sample_TomGUI_tiff\"\n",
    "save_path_norm = \"/Users/tom/Desktop/Stanford/RA/OligodendroSight/datasets/Lauren/Sample_TomGUI_norm\"\n",
    "GRAYSCALE = True\n",
    "if not os.path.exists(save_path_norm):\n",
    "    os.makedirs(save_path_norm)\n",
    "for file in os.listdir(folder_path):\n",
    "    if file.endswith('.tif'):\n",
    "        original_img = skimage.io.imread(os.path.join(folder_path, file))\n",
    "        if GRAYSCALE:\n",
    "            float_gray_img = skimage.io.imread(os.path.join(folder_path, file), as_gray=True)\n",
    "            float_gray_img_norm = skimage.exposure.equalize_adapthist(float_gray_img, clip_limit=0.04)\n",
    "            img_norm = np.stack(((float_gray_img_norm * 255).astype(np.uint8),)*3, axis=-1)\n",
    "        else:\n",
    "            norm_channels = []\n",
    "            for i in range(original_img.shape[2]):\n",
    "                if np.max(original_img[:,:,i]) > 0:\n",
    "                    norm_channel = skimage.exposure.equalize_adapthist(original_img[:,:,i], clip_limit=0.03)\n",
    "                    norm_channel = (norm_channel * 255).astype(np.uint8)\n",
    "                else:\n",
    "                    norm_channel = original_img[:,:,i]\n",
    "                norm_channels.append(norm_channel)\n",
    "            img_norm = np.stack(norm_channels, axis=-1)\n",
    "        skimage.io.imsave(os.path.join(save_path_norm, os.path.basename(file)), img_norm)\n",
    "print(f'{len(os.listdir(save_path_norm))} images were normalized and saved as grayscale.')"
   ]
  }
 ],
 "metadata": {
  "kernelspec": {
   "display_name": "tf_env",
   "language": "python",
   "name": "python3"
  },
  "language_info": {
   "codemirror_mode": {
    "name": "ipython",
    "version": 3
   },
   "file_extension": ".py",
   "mimetype": "text/x-python",
   "name": "python",
   "nbconvert_exporter": "python",
   "pygments_lexer": "ipython3",
   "version": "3.9.18"
  }
 },
 "nbformat": 4,
 "nbformat_minor": 2
}
