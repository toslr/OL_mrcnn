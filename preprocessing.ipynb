{
 "cells": [
  {
   "cell_type": "code",
   "execution_count": 2,
   "metadata": {},
   "outputs": [],
   "source": [
    "import numpy as np\n",
    "import cv2\n",
    "#import pandas as pd\n",
    "import os\n",
    "import tifffile as tiff\n",
    "from PIL import Image\n",
    "import skimage\n",
    "import czifile"
   ]
  },
  {
   "cell_type": "code",
   "execution_count": 4,
   "metadata": {},
   "outputs": [
    {
     "name": "stdout",
     "output_type": "stream",
     "text": [
      "BZ-MBL_002_20x_LatA500nM-right-19.czi\n",
      "BZ-MBL_002_20x_DMSO-left-02_photogenic.czi\n",
      "BZ-MBL_002_20x_LatA2uM-left-23.czi\n"
     ]
    },
    {
     "name": "stderr",
     "output_type": "stream",
     "text": [
      "/var/folders/kh/yrhstrqj6171b88zc_cvt6hm0000gn/T/ipykernel_68472/1459103529.py:14: DeprecationWarning: <tifffile.imsave> is deprecated. Use tifffile.imwrite\n",
      "  tiff.imsave(os.path.join(save_path,file.replace('.czi','.tif')),image)\n"
     ]
    },
    {
     "name": "stdout",
     "output_type": "stream",
     "text": [
      "BZ-MBL_002_20x_LatA500nM-right-18.czi\n",
      "BZ-MBL_002_20x_ionomycin-left-40.czi\n",
      "BZ-MBL_002_20x_LatA2uM-right-29.czi\n",
      "BZ-MBL_002_20x_LatA2uM-left-24.czi\n",
      "BZ-MBL_002_20x_LatA2uM-right-28.czi\n",
      "BZ-MBL_002_20x_LatA2uM-left-25.czi\n",
      "BZ-MBL_002_20x_LatA500nM-right-22.czi\n",
      "BZ-MBL_002_20x_ionomycin-left-37_photogenic.czi\n",
      "BZ-MBL_002_20x_LatA500nM-right-20.czi\n",
      "BZ-MBL_002_20x_LatA2uM-left-27.czi\n",
      "BZ-MBL_002_20x_LatA2uM-left-26.czi\n",
      "BZ-MBL_002_20x_LatA500nM-right-21.czi\n",
      "BZ-MBL_002_20x_ionomycin-left-34.czi\n",
      "BZ-MBL_002_20x_DMSO-left-03.czi\n",
      "BZ-MBL_002_20x_ionomycin-left-35.czi\n",
      "BZ-MBL_002_20x_ionomycin-left-36.czi\n",
      "BZ-MBL_002_20x_DMSO-left-04.czi\n",
      "BZ-MBL_002_20x_DMSO-right-10.czi\n",
      "BZ-MBL_002_20x_DMSO-right-11.czi\n",
      "BZ-MBL_002_20x_DMSO-left-05.czi\n",
      "BZ-MBL_002_20x_ionomycin-left-33_photogenic.czi\n",
      "BZ-MBL_002_20x_DMSO-right-07.czi\n",
      "BZ-MBL_002_20x_DMSO-left-06.czi\n",
      "BZ-MBL_002_20x_ionomycin-right-46.czi\n",
      "BZ-MBL_002_20x_DMSO-right-08.czi\n",
      "BZ-MBL_002_20x_ionomycin-right-45.czi\n",
      "BZ-MBL_002_20x_DMSO-right-09.czi\n",
      "BZ-MBL_002_20x_ionomycin-right-44.czi\n",
      "BZ-MBL_002_20x_ionomycin-right-41.czi\n",
      "BZ-MBL_002_20x_ionomycin-left-38.czi\n",
      "BZ-MBL_002_20x_ionomycin-right-43.czi\n",
      "BZ-MBL_002_20x_ionomycin-right-42.czi\n",
      "BZ-MBL_002_20x_ionomycin-right-47_photogenic.czi\n",
      "BZ-MBL_002_20x_ionomycin-left-39.czi\n",
      "BZ-MBL_002_20x_LatA2uM-right-32.czi\n",
      "BZ-MBL_002_20x_LatA2uM-right-31.czi\n",
      "BZ-MBL_002_20x_LatA2uM-right-30.czi\n",
      "BZ-MBL_002_20x_LatA500nM-left-15.czi\n",
      "BZ-MBL_002_20x_LatA500nM-left-14.czi\n",
      "BZ-MBL_002_20x_LatA500nM-left-16.czi\n",
      "BZ-MBL_002_20x_LatA500nM-left-02.czi\n",
      "BZ-MBL_002_20x_LatA500nM-left-17.czi\n"
     ]
    }
   ],
   "source": [
    "def czi_to_tiff(czi_folder,save_path):\n",
    "    \"\"\"read uint16 czi files and save as uint8 tiff files\"\"\"\n",
    "    if not os.path.exists(save_path):\n",
    "        os.makedirs(save_path)\n",
    "    for root, dirs, files in os.walk(czi_folder):\n",
    "        for file in files:\n",
    "            if file.endswith('.czi'):\n",
    "                print(file)\n",
    "                czi = czifile.CziFile(os.path.join(root,file))\n",
    "                image = czi.asarray()\n",
    "                image = image.squeeze()\n",
    "                image = np.moveaxis(image,0,-1)\n",
    "                #image = skimage.exposure.rescale_intensity(image, in_range='dtype', out_range='uint8')\n",
    "                tiff.imsave(os.path.join(save_path,file.replace('.czi','.tif')),image)\n",
    "\n",
    "czi_to_tiff('/Users/tom/Downloads/BZ_OL_images','/Users/tom/Downloads/BZ_OL_images_tiff')\n"
   ]
  },
  {
   "cell_type": "code",
   "execution_count": 5,
   "metadata": {},
   "outputs": [],
   "source": [
    "def normalize_img(img, num_channels=3):\n",
    "    \"\"\"normalizes each channel of the image by dividing by the maximum value\"\"\"\n",
    "    normalized_channels = []\n",
    "    max_channels = []\n",
    "    if num_channels == 1:\n",
    "        np.expand_dims(img, axis=-1)\n",
    "    for i in range(num_channels):\n",
    "        channel = img[:, :,i].astype(np.float32)\n",
    "        max_channels.append(np.max(channel))\n",
    "        if max_channels[-1] != 0:\n",
    "            normalized_channel = channel / max_channels[-1]\n",
    "        else:\n",
    "            normalized_channel = channel\n",
    "        normalized_channels.append(normalized_channel)\n",
    "    \n",
    "    return np.stack([channel * 255 for channel in normalized_channels], axis=-1).astype(np.uint8).squeeze(), max_channels "
   ]
  },
  {
   "cell_type": "code",
   "execution_count": 8,
   "metadata": {},
   "outputs": [],
   "source": [
    "def convert_to_grayscale(dir_path, save_path):\n",
    "    \"\"\"converts multi-channel image to grayscale\"\"\"\n",
    "    if not os.path.exists(save_path):\n",
    "        os.makedirs(save_path)\n",
    "    for file in os.listdir(dir_path):\n",
    "        if file.endswith('.tif'):\n",
    "            img = skimage.io.imread(os.path.join(dir_path, file), as_gray=True)\n",
    "            print(img)\n",
    "            skimage.io.imsave(os.path.join(save_path, file), img)"
   ]
  },
  {
   "cell_type": "code",
   "execution_count": 21,
   "metadata": {},
   "outputs": [
    {
     "name": "stdout",
     "output_type": "stream",
     "text": [
      "CE031_I1_div3_1hrinterval_concatenated_tx_aftertp1_timealigned_scP99-B3_12.tif\n",
      "CE031_I1_div3_1hrinterval_concatenated_tx_aftertp1_timealigned_scP99-B3_10.tif\n",
      "CE031_I1_div3_1hrinterval_concatenated_tx_aftertp1_timealigned_scP99-B3_11.tif\n",
      "CE031_I1_div3_1hrinterval_concatenated_tx_aftertp1_timealigned_scP99-B3_8.tif\n",
      "CE031_I1_div3_1hrinterval_concatenated_tx_aftertp1_timealigned_scP99-B3_9.tif\n",
      "CE031_I1_div3_1hrinterval_concatenated_tx_aftertp1_timealigned_scP99-B3_7.tif\n",
      "CE031_I1_div3_1hrinterval_concatenated_tx_aftertp1_timealigned_scP99-B3_6.tif\n",
      "CE031_I1_div3_1hrinterval_concatenated_tx_aftertp1_timealigned_scP99-B3_4.tif\n",
      "CE031_I1_div3_1hrinterval_concatenated_tx_aftertp1_timealigned_scP99-B3_5.tif\n",
      "CE031_I1_div3_1hrinterval_concatenated_tx_aftertp1_timealigned_scP99-B3_1.tif\n",
      "CE031_I1_div3_1hrinterval_concatenated_tx_aftertp1_timealigned_scP99-B3_0.tif\n",
      "CE031_I1_div3_1hrinterval_concatenated_tx_aftertp1_timealigned_scP99-B3_2.tif\n",
      "CE031_I1_div3_1hrinterval_concatenated_tx_aftertp1_timealigned_scP99-B3_3.tif\n",
      "13 images were normalized and saved as grayscale.\n"
     ]
    }
   ],
   "source": [
    "if __name__ == '__main__':\n",
    "    folder_path = '/Users/tom/Downloads/tifs_from_ome'\n",
    "    save_path_norm = '/Users/tom/Downloads/normtifs'\n",
    "    save_path_gray = '/Users/tom/Downloads/graytifs'\n",
    "    if not os.path.exists(save_path_norm):\n",
    "        os.makedirs(save_path_norm)\n",
    "    channel_max = []\n",
    "    for file in os.listdir(folder_path):\n",
    "        if file.endswith('.tif'):\n",
    "            print(os.path.basename(file))\n",
    "            img = skimage.io.imread(os.path.join(folder_path, file)) # better for handling more than 3 channels.\n",
    "            assert img.shape[-1] < 30, 'Check in which index position are stored the channels.'\n",
    "            img, max_channels = normalize_img(img, num_channels=img.shape[-1])\n",
    "            skimage.io.imsave(os.path.join(save_path_norm, os.path.basename(file)), img)\n",
    "            channel_max.append([os.path.basename(file)] + max_channels)\n",
    "    \n",
    "    header = 'file,' + ','.join([f'c{i+1}_max' for i in range(len(max_channels))]) + '\\n'\n",
    "    with open('channel_max.csv', 'w') as f:\n",
    "        f.write(header)\n",
    "        for row in channel_max:\n",
    "            f.write(','.join(map(str, row)) + '\\n')\n",
    "\n",
    "    convert_to_grayscale(save_path_norm, save_path_gray)\n",
    "    print(f'{len(os.listdir(save_path_norm))} images were normalized and saved as grayscale.')"
   ]
  },
  {
   "cell_type": "code",
   "execution_count": 6,
   "metadata": {},
   "outputs": [
    {
     "name": "stdout",
     "output_type": "stream",
     "text": [
      "BZ-MBL_002_20x_LatA2uM-right-28.tif\n",
      "BZ-MBL_002_20x_LatA2uM-left-25.tif\n",
      "BZ-MBL_002_20x_ionomycin-left-37_photogenic.tif\n",
      "BZ-MBL_002_20x_LatA500nM-right-22.tif\n",
      "BZ-MBL_002_20x_LatA2uM-right-29.tif\n",
      "BZ-MBL_002_20x_LatA2uM-left-24.tif\n",
      "BZ-MBL_002_20x_LatA2uM-left-26.tif\n",
      "BZ-MBL_002_20x_LatA500nM-right-21.tif\n",
      "BZ-MBL_002_20x_LatA500nM-right-20.tif\n",
      "BZ-MBL_002_20x_LatA2uM-left-27.tif\n",
      "BZ-MBL_002_20x_LatA2uM-left-23.tif\n",
      "BZ-MBL_002_20x_LatA500nM-right-18.tif\n",
      "BZ-MBL_002_20x_LatA500nM-right-19.tif\n",
      "BZ-MBL_002_20x_DMSO-left-02_photogenic.tif\n",
      "BZ-MBL_002_20x_ionomycin-left-40.tif\n",
      "BZ-MBL_002_20x_DMSO-right-11.tif\n",
      "BZ-MBL_002_20x_DMSO-left-05.tif\n",
      "BZ-MBL_002_20x_DMSO-left-04.tif\n",
      "BZ-MBL_002_20x_DMSO-right-10.tif\n",
      "BZ-MBL_002_20x_DMSO-left-06.tif\n",
      "BZ-MBL_002_20x_ionomycin-left-33_photogenic.tif\n",
      "BZ-MBL_002_20x_DMSO-right-07.tif\n",
      "BZ-MBL_002_20x_DMSO-left-03.tif\n",
      "BZ-MBL_002_20x_ionomycin-left-35.tif\n",
      "BZ-MBL_002_20x_ionomycin-left-34.tif\n",
      "BZ-MBL_002_20x_ionomycin-left-36.tif\n",
      "BZ-MBL_002_20x_ionomycin-right-41.tif\n",
      "BZ-MBL_002_20x_ionomycin-right-42.tif\n",
      "BZ-MBL_002_20x_ionomycin-right-47_photogenic.tif\n",
      "BZ-MBL_002_20x_ionomycin-left-39.tif\n",
      "BZ-MBL_002_20x_ionomycin-left-38.tif\n",
      "BZ-MBL_002_20x_ionomycin-right-43.tif\n",
      "BZ-MBL_002_20x_ionomycin-right-46.tif\n",
      "BZ-MBL_002_20x_DMSO-right-09.tif\n",
      "BZ-MBL_002_20x_ionomycin-right-44.tif\n",
      "BZ-MBL_002_20x_DMSO-right-08.tif\n",
      "BZ-MBL_002_20x_ionomycin-right-45.tif\n",
      "BZ-MBL_002_20x_LatA500nM-left-14.tif\n",
      "BZ-MBL_002_20x_LatA500nM-left-15.tif\n",
      "BZ-MBL_002_20x_LatA500nM-left-17.tif\n",
      "BZ-MBL_002_20x_LatA500nM-left-16.tif\n",
      "BZ-MBL_002_20x_LatA500nM-left-02.tif\n",
      "BZ-MBL_002_20x_LatA2uM-right-32.tif\n",
      "BZ-MBL_002_20x_LatA2uM-right-30.tif\n",
      "BZ-MBL_002_20x_LatA2uM-right-31.tif\n",
      "45 images were normalized and saved as grayscale.\n"
     ]
    }
   ],
   "source": [
    "if __name__ == '__main__':\n",
    "    folder_path = '/Users/tom/Downloads/BZ_OL_images_tiff'\n",
    "    save_path_norm = '/Users/tom/Downloads/BZ_OL_images_tiff_norm'\n",
    "    save_path_gray = '/Users/tom/Downloads/graytifs'\n",
    "    if not os.path.exists(save_path_norm):\n",
    "        os.makedirs(save_path_norm)\n",
    "    channel_max = []\n",
    "    for file in os.listdir(folder_path):\n",
    "        if file.endswith('.tif'):\n",
    "            print(os.path.basename(file))\n",
    "            img = skimage.io.imread(os.path.join(folder_path, file),as_gray=True)\n",
    "            img = skimage.exposure.equalize_adapthist(img, clip_limit=0.02)\n",
    "            skimage.io.imsave(os.path.join(save_path_norm, os.path.basename(file)), img)\n",
    "    print(f'{len(os.listdir(save_path_norm))} images were normalized and saved as grayscale.')"
   ]
  },
  {
   "cell_type": "code",
   "execution_count": 13,
   "metadata": {},
   "outputs": [],
   "source": [
    "def ometifs_to_tifs(dir_path, save_path):\n",
    "    \"\"\"converts ome-tifs to tifs\"\"\"\n",
    "    if not os.path.exists(save_path):\n",
    "        os.makedirs(save_path)\n",
    "    for file in os.listdir(dir_path):\n",
    "        if file.endswith('.ome.tif'):\n",
    "            img = skimage.io.imread(os.path.join(dir_path, file))\n",
    "            for i in range(img.shape[0]):\n",
    "                skimage.io.imsave(os.path.join(save_path, file[:-8] + f'_{i}.tif'), img[i])"
   ]
  },
  {
   "cell_type": "code",
   "execution_count": 14,
   "metadata": {},
   "outputs": [
    {
     "name": "stderr",
     "output_type": "stream",
     "text": [
      "/var/folders/kh/yrhstrqj6171b88zc_cvt6hm0000gn/T/ipykernel_48740/770908100.py:9: UserWarning: /Users/tom/Downloads/tifs_from_ome/CE031_I1_div3_1hrinterval_concatenated_tx_aftertp1_timealigned_scP99-B3_0.tif is a low contrast image\n",
      "  skimage.io.imsave(os.path.join(save_path, file[:-8] + f'_{i}.tif'), img[i])\n",
      "/var/folders/kh/yrhstrqj6171b88zc_cvt6hm0000gn/T/ipykernel_48740/770908100.py:9: UserWarning: /Users/tom/Downloads/tifs_from_ome/CE031_I1_div3_1hrinterval_concatenated_tx_aftertp1_timealigned_scP99-B3_1.tif is a low contrast image\n",
      "  skimage.io.imsave(os.path.join(save_path, file[:-8] + f'_{i}.tif'), img[i])\n",
      "/var/folders/kh/yrhstrqj6171b88zc_cvt6hm0000gn/T/ipykernel_48740/770908100.py:9: UserWarning: /Users/tom/Downloads/tifs_from_ome/CE031_I1_div3_1hrinterval_concatenated_tx_aftertp1_timealigned_scP99-B3_2.tif is a low contrast image\n",
      "  skimage.io.imsave(os.path.join(save_path, file[:-8] + f'_{i}.tif'), img[i])\n",
      "/var/folders/kh/yrhstrqj6171b88zc_cvt6hm0000gn/T/ipykernel_48740/770908100.py:9: UserWarning: /Users/tom/Downloads/tifs_from_ome/CE031_I1_div3_1hrinterval_concatenated_tx_aftertp1_timealigned_scP99-B3_3.tif is a low contrast image\n",
      "  skimage.io.imsave(os.path.join(save_path, file[:-8] + f'_{i}.tif'), img[i])\n",
      "/var/folders/kh/yrhstrqj6171b88zc_cvt6hm0000gn/T/ipykernel_48740/770908100.py:9: UserWarning: /Users/tom/Downloads/tifs_from_ome/CE031_I1_div3_1hrinterval_concatenated_tx_aftertp1_timealigned_scP99-B3_4.tif is a low contrast image\n",
      "  skimage.io.imsave(os.path.join(save_path, file[:-8] + f'_{i}.tif'), img[i])\n",
      "/var/folders/kh/yrhstrqj6171b88zc_cvt6hm0000gn/T/ipykernel_48740/770908100.py:9: UserWarning: /Users/tom/Downloads/tifs_from_ome/CE031_I1_div3_1hrinterval_concatenated_tx_aftertp1_timealigned_scP99-B3_5.tif is a low contrast image\n",
      "  skimage.io.imsave(os.path.join(save_path, file[:-8] + f'_{i}.tif'), img[i])\n",
      "/var/folders/kh/yrhstrqj6171b88zc_cvt6hm0000gn/T/ipykernel_48740/770908100.py:9: UserWarning: /Users/tom/Downloads/tifs_from_ome/CE031_I1_div3_1hrinterval_concatenated_tx_aftertp1_timealigned_scP99-B3_6.tif is a low contrast image\n",
      "  skimage.io.imsave(os.path.join(save_path, file[:-8] + f'_{i}.tif'), img[i])\n",
      "/var/folders/kh/yrhstrqj6171b88zc_cvt6hm0000gn/T/ipykernel_48740/770908100.py:9: UserWarning: /Users/tom/Downloads/tifs_from_ome/CE031_I1_div3_1hrinterval_concatenated_tx_aftertp1_timealigned_scP99-B3_7.tif is a low contrast image\n",
      "  skimage.io.imsave(os.path.join(save_path, file[:-8] + f'_{i}.tif'), img[i])\n",
      "/var/folders/kh/yrhstrqj6171b88zc_cvt6hm0000gn/T/ipykernel_48740/770908100.py:9: UserWarning: /Users/tom/Downloads/tifs_from_ome/CE031_I1_div3_1hrinterval_concatenated_tx_aftertp1_timealigned_scP99-B3_8.tif is a low contrast image\n",
      "  skimage.io.imsave(os.path.join(save_path, file[:-8] + f'_{i}.tif'), img[i])\n",
      "/var/folders/kh/yrhstrqj6171b88zc_cvt6hm0000gn/T/ipykernel_48740/770908100.py:9: UserWarning: /Users/tom/Downloads/tifs_from_ome/CE031_I1_div3_1hrinterval_concatenated_tx_aftertp1_timealigned_scP99-B3_9.tif is a low contrast image\n",
      "  skimage.io.imsave(os.path.join(save_path, file[:-8] + f'_{i}.tif'), img[i])\n",
      "/var/folders/kh/yrhstrqj6171b88zc_cvt6hm0000gn/T/ipykernel_48740/770908100.py:9: UserWarning: /Users/tom/Downloads/tifs_from_ome/CE031_I1_div3_1hrinterval_concatenated_tx_aftertp1_timealigned_scP99-B3_10.tif is a low contrast image\n",
      "  skimage.io.imsave(os.path.join(save_path, file[:-8] + f'_{i}.tif'), img[i])\n",
      "/var/folders/kh/yrhstrqj6171b88zc_cvt6hm0000gn/T/ipykernel_48740/770908100.py:9: UserWarning: /Users/tom/Downloads/tifs_from_ome/CE031_I1_div3_1hrinterval_concatenated_tx_aftertp1_timealigned_scP99-B3_11.tif is a low contrast image\n",
      "  skimage.io.imsave(os.path.join(save_path, file[:-8] + f'_{i}.tif'), img[i])\n",
      "/var/folders/kh/yrhstrqj6171b88zc_cvt6hm0000gn/T/ipykernel_48740/770908100.py:9: UserWarning: /Users/tom/Downloads/tifs_from_ome/CE031_I1_div3_1hrinterval_concatenated_tx_aftertp1_timealigned_scP99-B3_12.tif is a low contrast image\n",
      "  skimage.io.imsave(os.path.join(save_path, file[:-8] + f'_{i}.tif'), img[i])\n",
      "/var/folders/kh/yrhstrqj6171b88zc_cvt6hm0000gn/T/ipykernel_48740/770908100.py:10: UserWarning: /Users/tom/Downloads/tifs_from_ome/CE031_I1_div3_1hrinterval_concatenated_tx_aftertp1_timealigned_scP99-B3.tif is a low contrast image\n",
      "  skimage.io.imsave(os.path.join(save_path, file[:-8] + '.tif'), img)\n"
     ]
    }
   ],
   "source": [
    "ometifs_to_tifs('/Users/tom/Downloads/ometifs', '/Users/tom/Downloads/tifs_from_ome')"
   ]
  },
  {
   "cell_type": "code",
   "execution_count": null,
   "metadata": {},
   "outputs": [],
   "source": []
  }
 ],
 "metadata": {
  "kernelspec": {
   "display_name": "tf_env",
   "language": "python",
   "name": "python3"
  },
  "language_info": {
   "codemirror_mode": {
    "name": "ipython",
    "version": 3
   },
   "file_extension": ".py",
   "mimetype": "text/x-python",
   "name": "python",
   "nbconvert_exporter": "python",
   "pygments_lexer": "ipython3",
   "version": "3.9.18"
  }
 },
 "nbformat": 4,
 "nbformat_minor": 2
}
